{
  "nbformat": 4,
  "nbformat_minor": 0,
  "metadata": {
    "colab": {
      "name": "[E-02]diabetes.ipynb",
      "provenance": [],
      "collapsed_sections": []
    },
    "kernelspec": {
      "name": "python3",
      "display_name": "Python 3"
    },
    "language_info": {
      "name": "python"
    }
  },
  "cells": [
    {
      "cell_type": "markdown",
      "source": [
        "# 데이터 가져오기\n",
        "\n",
        "- sklearn.datasets의 load_diabetes에서 데이터를 가져와주세요.\n",
        "- diabetes의 data를 df_X에, target을 df_y에 저장해주세요"
      ],
      "metadata": {
        "id": "xGhmZ2QsOTb0"
      }
    },
    {
      "cell_type": "code",
      "execution_count": null,
      "metadata": {
        "id": "z4qmnQ2kwWVi"
      },
      "outputs": [],
      "source": [
        "import pandas as pd\n",
        "import numpy as np"
      ]
    },
    {
      "cell_type": "code",
      "source": [
        "from sklearn.datasets import load_diabetes\n",
        "\n",
        "diabetes=load_diabetes()"
      ],
      "metadata": {
        "id": "LuQ1Q6HFw1nJ"
      },
      "execution_count": null,
      "outputs": []
    },
    {
      "cell_type": "code",
      "source": [
        "df_X=diabetes.data\n",
        "df_y=diabetes.target"
      ],
      "metadata": {
        "id": "1cWHvxX9xIk0"
      },
      "execution_count": null,
      "outputs": []
    },
    {
      "cell_type": "code",
      "source": [
        "print(diabetes.data.shape)"
      ],
      "metadata": {
        "colab": {
          "base_uri": "https://localhost:8080/"
        },
        "id": "BcqKhHGZmvs5",
        "outputId": "964115d2-a02e-486f-8b92-46f2a69dd338"
      },
      "execution_count": null,
      "outputs": [
        {
          "output_type": "stream",
          "name": "stdout",
          "text": [
            "(442, 10)\n"
          ]
        }
      ]
    },
    {
      "cell_type": "markdown",
      "source": [
        "# 모델에 입력할 데이터 X 준비하기"
      ],
      "metadata": {
        "id": "rmAsyVjuRD2w"
      }
    },
    {
      "cell_type": "code",
      "source": [
        "type(df_X)"
      ],
      "metadata": {
        "colab": {
          "base_uri": "https://localhost:8080/"
        },
        "id": "HWqzMCxJySBd",
        "outputId": "01f04920-3f55-4049-d160-81b11a09afae"
      },
      "execution_count": null,
      "outputs": [
        {
          "output_type": "execute_result",
          "data": {
            "text/plain": [
              "numpy.ndarray"
            ]
          },
          "metadata": {},
          "execution_count": 5
        }
      ]
    },
    {
      "cell_type": "markdown",
      "source": [
        "모델에 예측할 데이터 y 준비하기"
      ],
      "metadata": {
        "id": "4r8sauxDRICV"
      }
    },
    {
      "cell_type": "code",
      "source": [
        "type(df_y)"
      ],
      "metadata": {
        "colab": {
          "base_uri": "https://localhost:8080/"
        },
        "id": "XDFGsFPbytxf",
        "outputId": "3465fdad-2a59-47cc-938f-53a956da3ced"
      },
      "execution_count": null,
      "outputs": [
        {
          "output_type": "execute_result",
          "data": {
            "text/plain": [
              "numpy.ndarray"
            ]
          },
          "metadata": {},
          "execution_count": 6
        }
      ]
    },
    {
      "cell_type": "markdown",
      "source": [
        "# train 데이터와 test 데이터로 분리하기"
      ],
      "metadata": {
        "id": "Ok3dIuRiRS1V"
      }
    },
    {
      "cell_type": "code",
      "source": [
        "from sklearn.model_selection import train_test_split\n",
        "\n",
        "X_train, X_test, y_train, y_test = train_test_split(df_X, df_y, test_size = 0.2,random_state=20)\n",
        "\n"
      ],
      "metadata": {
        "id": "YOZLccFf0Ljl"
      },
      "execution_count": null,
      "outputs": []
    },
    {
      "cell_type": "markdown",
      "source": [
        "# 모델 준비하기"
      ],
      "metadata": {
        "id": "ciE3Bo15X48m"
      }
    },
    {
      "cell_type": "code",
      "source": [
        "W = np.random.rand(10)\n",
        "b = np.random.rand()"
      ],
      "metadata": {
        "id": "C7QL1Jq5m7cn"
      },
      "execution_count": null,
      "outputs": []
    },
    {
      "cell_type": "code",
      "source": [
        "W"
      ],
      "metadata": {
        "colab": {
          "base_uri": "https://localhost:8080/"
        },
        "id": "Yd1Wt1pjnOZN",
        "outputId": "f3412634-338d-49b8-f7fc-b3eb6e135036"
      },
      "execution_count": null,
      "outputs": [
        {
          "output_type": "execute_result",
          "data": {
            "text/plain": [
              "array([0.34212799, 0.2753314 , 0.74658664, 0.16031959, 0.10015981,\n",
              "       0.93593276, 0.1295541 , 0.62174447, 0.34267984, 0.16628997])"
            ]
          },
          "metadata": {},
          "execution_count": 9
        }
      ]
    },
    {
      "cell_type": "code",
      "source": [
        "b"
      ],
      "metadata": {
        "colab": {
          "base_uri": "https://localhost:8080/"
        },
        "id": "eVlnLM1lnQ_j",
        "outputId": "da4e92ef-0e87-4c7e-e379-3015ce405855"
      },
      "execution_count": null,
      "outputs": [
        {
          "output_type": "execute_result",
          "data": {
            "text/plain": [
              "0.2957592259289211"
            ]
          },
          "metadata": {},
          "execution_count": 10
        }
      ]
    },
    {
      "cell_type": "code",
      "source": [
        "def model(X, W, b):\n",
        "    pred = np.sum(X * W, axis=1) + b\n",
        "    return pred"
      ],
      "metadata": {
        "id": "zz_WhoKPnFCe"
      },
      "execution_count": null,
      "outputs": []
    },
    {
      "cell_type": "markdown",
      "source": [
        "#손실함수 loss 정의하기"
      ],
      "metadata": {
        "id": "PXlkWpE0YAJr"
      }
    },
    {
      "cell_type": "code",
      "source": [
        "def MSE(a, b):\n",
        "    mse = ((a - b) ** 2).mean()\n",
        "    return mse"
      ],
      "metadata": {
        "id": "lFlXMxYn2j_v"
      },
      "execution_count": null,
      "outputs": []
    },
    {
      "cell_type": "code",
      "source": [
        "def loss(X, W, b, y):\n",
        "    predictions = model(X, W, b)\n",
        "    L = MSE(predictions, y)\n",
        "    return L\n"
      ],
      "metadata": {
        "id": "Cu-L7p1GkmpH"
      },
      "execution_count": null,
      "outputs": []
    },
    {
      "cell_type": "markdown",
      "source": [
        "# 기울기를 구하는 gradient 함수 구현하기\n"
      ],
      "metadata": {
        "id": "3JSd74JvYHCy"
      }
    },
    {
      "cell_type": "code",
      "source": [
        "def gradient(X, W, b, y):\n",
        "   N = len(W)\n",
        "\n",
        "   y_pred = model(X, W, b)\n",
        "\n",
        "   dW = 1/N * 2 * X.T.dot(y_pred - y)\n",
        "\n",
        "   db = 2 * (y_pred - y).mean()\n",
        "   return dW, db"
      ],
      "metadata": {
        "id": "WWvrFOERk5Fq"
      },
      "execution_count": null,
      "outputs": []
    },
    {
      "cell_type": "code",
      "source": [
        "dW, db = gradient(X_train, W, b, y_train)\n",
        "print(\"dW:\", dW)\n",
        "print(\"db:\", db)"
      ],
      "metadata": {
        "colab": {
          "base_uri": "https://localhost:8080/"
        },
        "id": "kiESjVVNnx95",
        "outputId": "90a08b61-ecd9-4157-d538-9dde5ae8dc8b"
      },
      "execution_count": null,
      "outputs": [
        {
          "output_type": "stream",
          "name": "stdout",
          "text": [
            "dW: [ -44.87805061  -11.34073418 -159.3306969  -130.49663042  -64.73798127\n",
            "  -58.76324933  112.44893465 -122.92537372 -151.86279902 -107.45178556]\n",
            "db: -308.84750470229477\n"
          ]
        }
      ]
    },
    {
      "cell_type": "markdown",
      "source": [
        "# 하이퍼 파라미터인 학습률 설정하기"
      ],
      "metadata": {
        "id": "SHW1X18qYNVE"
      }
    },
    {
      "cell_type": "code",
      "source": [
        "LEARNING_RATE = 1e-2"
      ],
      "metadata": {
        "id": "74GiPkTnlZUP"
      },
      "execution_count": null,
      "outputs": []
    },
    {
      "cell_type": "markdown",
      "source": [
        "# 모델 학습하기"
      ],
      "metadata": {
        "id": "fQjmc8vmYko5"
      }
    },
    {
      "cell_type": "code",
      "source": [
        "losses = []\n",
        "\n",
        "for i in range(1, 1001):\n",
        "    dW, db = gradient(X_train, W, b, y_train)\n",
        "    W -= LEARNING_RATE * dW\n",
        "    b -= LEARNING_RATE * db\n",
        "    L = loss(X_train, W, b, y_train)\n",
        "    losses.append(L)\n",
        "    if i % 10 == 0:\n",
        "        print('Iteration %d : Loss %0.4f' % (i, L))"
      ],
      "metadata": {
        "colab": {
          "base_uri": "https://localhost:8080/"
        },
        "id": "t8_S_dLblvE8",
        "outputId": "9f1938b6-5490-4a9b-e1d6-775a4a5c3d01"
      },
      "execution_count": null,
      "outputs": [
        {
          "output_type": "stream",
          "name": "stdout",
          "text": [
            "Iteration 10 : Loss 21504.6215\n",
            "Iteration 20 : Loss 15960.1999\n",
            "Iteration 30 : Loss 12210.4957\n",
            "Iteration 40 : Loss 9663.5255\n",
            "Iteration 50 : Loss 7923.6090\n",
            "Iteration 60 : Loss 6726.1593\n",
            "Iteration 70 : Loss 5894.1485\n",
            "Iteration 80 : Loss 5309.0426\n",
            "Iteration 90 : Loss 4891.3950\n",
            "Iteration 100 : Loss 4587.8877\n",
            "Iteration 110 : Loss 4362.6766\n",
            "Iteration 120 : Loss 4191.6115\n",
            "Iteration 130 : Loss 4058.3734\n",
            "Iteration 140 : Loss 3951.8937\n",
            "Iteration 150 : Loss 3864.6288\n",
            "Iteration 160 : Loss 3791.4054\n",
            "Iteration 170 : Loss 3728.6487\n",
            "Iteration 180 : Loss 3673.8644\n",
            "Iteration 190 : Loss 3625.2916\n",
            "Iteration 200 : Loss 3581.6699\n",
            "Iteration 210 : Loss 3542.0825\n",
            "Iteration 220 : Loss 3505.8501\n",
            "Iteration 230 : Loss 3472.4595\n",
            "Iteration 240 : Loss 3441.5148\n",
            "Iteration 250 : Loss 3412.7044\n",
            "Iteration 260 : Loss 3385.7777\n",
            "Iteration 270 : Loss 3360.5296\n",
            "Iteration 280 : Loss 3336.7893\n",
            "Iteration 290 : Loss 3314.4121\n",
            "Iteration 300 : Loss 3293.2745\n",
            "Iteration 310 : Loss 3273.2692\n",
            "Iteration 320 : Loss 3254.3025\n",
            "Iteration 330 : Loss 3236.2920\n",
            "Iteration 340 : Loss 3219.1647\n",
            "Iteration 350 : Loss 3202.8553\n",
            "Iteration 360 : Loss 3187.3058\n",
            "Iteration 370 : Loss 3172.4637\n",
            "Iteration 380 : Loss 3158.2818\n",
            "Iteration 390 : Loss 3144.7176\n",
            "Iteration 400 : Loss 3131.7322\n",
            "Iteration 410 : Loss 3119.2904\n",
            "Iteration 420 : Loss 3107.3603\n",
            "Iteration 430 : Loss 3095.9124\n",
            "Iteration 440 : Loss 3084.9198\n",
            "Iteration 450 : Loss 3074.3579\n",
            "Iteration 460 : Loss 3064.2039\n",
            "Iteration 470 : Loss 3054.4368\n",
            "Iteration 480 : Loss 3045.0373\n",
            "Iteration 490 : Loss 3035.9873\n",
            "Iteration 500 : Loss 3027.2703\n",
            "Iteration 510 : Loss 3018.8705\n",
            "Iteration 520 : Loss 3010.7736\n",
            "Iteration 530 : Loss 3002.9659\n",
            "Iteration 540 : Loss 2995.4348\n",
            "Iteration 550 : Loss 2988.1684\n",
            "Iteration 560 : Loss 2981.1555\n",
            "Iteration 570 : Loss 2974.3855\n",
            "Iteration 580 : Loss 2967.8485\n",
            "Iteration 590 : Loss 2961.5352\n",
            "Iteration 600 : Loss 2955.4367\n",
            "Iteration 610 : Loss 2949.5444\n",
            "Iteration 620 : Loss 2943.8506\n",
            "Iteration 630 : Loss 2938.3475\n",
            "Iteration 640 : Loss 2933.0280\n",
            "Iteration 650 : Loss 2927.8852\n",
            "Iteration 660 : Loss 2922.9125\n",
            "Iteration 670 : Loss 2918.1037\n",
            "Iteration 680 : Loss 2913.4529\n",
            "Iteration 690 : Loss 2908.9543\n",
            "Iteration 700 : Loss 2904.6026\n",
            "Iteration 710 : Loss 2900.3923\n",
            "Iteration 720 : Loss 2896.3187\n",
            "Iteration 730 : Loss 2892.3767\n",
            "Iteration 740 : Loss 2888.5620\n",
            "Iteration 750 : Loss 2884.8699\n",
            "Iteration 760 : Loss 2881.2964\n",
            "Iteration 770 : Loss 2877.8373\n",
            "Iteration 780 : Loss 2874.4886\n",
            "Iteration 790 : Loss 2871.2467\n",
            "Iteration 800 : Loss 2868.1078\n",
            "Iteration 810 : Loss 2865.0686\n",
            "Iteration 820 : Loss 2862.1255\n",
            "Iteration 830 : Loss 2859.2755\n",
            "Iteration 840 : Loss 2856.5154\n",
            "Iteration 850 : Loss 2853.8421\n",
            "Iteration 860 : Loss 2851.2528\n",
            "Iteration 870 : Loss 2848.7447\n",
            "Iteration 880 : Loss 2846.3150\n",
            "Iteration 890 : Loss 2843.9613\n",
            "Iteration 900 : Loss 2841.6809\n",
            "Iteration 910 : Loss 2839.4715\n",
            "Iteration 920 : Loss 2837.3307\n",
            "Iteration 930 : Loss 2835.2563\n",
            "Iteration 940 : Loss 2833.2461\n",
            "Iteration 950 : Loss 2831.2980\n",
            "Iteration 960 : Loss 2829.4100\n",
            "Iteration 970 : Loss 2827.5801\n",
            "Iteration 980 : Loss 2825.8065\n",
            "Iteration 990 : Loss 2824.0872\n",
            "Iteration 1000 : Loss 2822.4206\n"
          ]
        }
      ]
    },
    {
      "cell_type": "code",
      "source": [
        "import matplotlib.pyplot as plt\n",
        "plt.plot(losses)\n",
        "plt.show()"
      ],
      "metadata": {
        "colab": {
          "base_uri": "https://localhost:8080/",
          "height": 269
        },
        "id": "ktQD4T2imfxp",
        "outputId": "b4c2521f-9b2f-47b7-f5ad-85554cadf28c"
      },
      "execution_count": null,
      "outputs": [
        {
          "output_type": "display_data",
          "data": {
            "text/plain": [
              "<Figure size 432x288 with 1 Axes>"
            ],
            "image/png": "[encoded data removed]"
          },
          "metadata": {
            "needs_background": "light"
          }
        }
      ]
    },
    {
      "cell_type": "markdown",
      "source": [
        "테스트 성능확인하기"
      ],
      "metadata": {
        "id": "BueOQvbPaiXI"
      }
    },
    {
      "cell_type": "code",
      "source": [
        "losses[-1]"
      ],
      "metadata": {
        "colab": {
          "base_uri": "https://localhost:8080/"
        },
        "id": "tcwOfLV1qoGP",
        "outputId": "d6deecc3-e684-44a2-a760-111723ec502e"
      },
      "execution_count": null,
      "outputs": [
        {
          "output_type": "execute_result",
          "data": {
            "text/plain": [
              "2822.420626278134"
            ]
          },
          "metadata": {},
          "execution_count": 19
        }
      ]
    },
    {
      "cell_type": "code",
      "source": [
        "prediction = model(X_test, W, b)\n",
        "mse = loss(X_test, W, b, y_test)\n",
        "mse"
      ],
      "metadata": {
        "colab": {
          "base_uri": "https://localhost:8080/"
        },
        "id": "v_Bg2CuRqoJt",
        "outputId": "2d81a235-ab02-4ffa-e8d1-a93a1c0e795c"
      },
      "execution_count": null,
      "outputs": [
        {
          "output_type": "execute_result",
          "data": {
            "text/plain": [
              "3335.7941104608744"
            ]
          },
          "metadata": {},
          "execution_count": 20
        }
      ]
    },
    {
      "cell_type": "markdown",
      "source": [
        "# 정답 데이터와 예측한 데이터 시각화하기"
      ],
      "metadata": {
        "id": "YsgdlEfxZUYg"
      }
    },
    {
      "cell_type": "markdown",
      "source": [
        ""
      ],
      "metadata": {
        "id": "8nZLvDsVZUVu"
      }
    },
    {
      "cell_type": "code",
      "source": [
        "plt.scatter(X_test[:, 0], y_test, label=\"true\")\n",
        "plt.scatter(X_test[:, 0], prediction, label=\"pred\")\n",
        "plt.legend()\n",
        "plt.show()"
      ],
      "metadata": {
        "colab": {
          "base_uri": "https://localhost:8080/",
          "height": 265
        },
        "id": "UxPNjFVCqoM0",
        "outputId": "57988dba-9200-496a-fcdd-cc7a4965b3c5"
      },
      "execution_count": null,
      "outputs": [
        {
          "output_type": "display_data",
          "data": {
            "text/plain": [
              "<Figure size 432x288 with 1 Axes>"
            ],
            "image/png": "[encoded data removed]"
          },
          "metadata": {
            "needs_background": "light"
          }
        }
      ]
    },
    {
      "cell_type": "code",
      "source": [
        "plt.scatter(X_train[:, 0], y_train, label=\"true\")\n",
        "plt.scatter(X_train[:, 0], model(X_train, W, b), label='pred')\n",
        "plt.legend()\n",
        "plt.show"
      ],
      "metadata": {
        "colab": {
          "base_uri": "https://localhost:8080/",
          "height": 283
        },
        "id": "OcBMlW6VqoP4",
        "outputId": "519a7695-befa-4c28-fae0-1fb92ac4f935"
      },
      "execution_count": null,
      "outputs": [
        {
          "output_type": "execute_result",
          "data": {
            "text/plain": [
              "<function matplotlib.pyplot.show>"
            ]
          },
          "metadata": {},
          "execution_count": 22
        },
        {
          "output_type": "display_data",
          "data": {
            "text/plain": [
              "<Figure size 432x288 with 1 Axes>"
            ],
            "image/png": "[encoded data removed]"
          },
          "metadata": {
            "needs_background": "light"
          }
        }
      ]
    },
    {
      "cell_type": "markdown",
      "source": [
        "회고\n",
        "\n",
        "노드랑 비슷한 코드였기에 수월하였고\n",
        "\n",
        "학습률 조정이 중요한거 같았다. 학습률 마다 손실함수 값이 달라서 여러번 시도했지만 \n",
        "1e-2 값이 괜찮은거같았다\n",
        "언젠간 머릿속에서 노드를 보지않고 잘 술술 코드를 작성하는날이 왔으면 좋겠다"
      ],
      "metadata": {
        "id": "3AJxfePts6Kq"
      }
    }
  ]
}