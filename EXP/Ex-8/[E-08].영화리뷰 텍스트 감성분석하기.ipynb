{
 "cells": [
  {
   "cell_type": "code",
   "execution_count": 1,
   "id": "ed16f00d",
   "metadata": {},
   "outputs": [
    {
     "name": "stdout",
     "output_type": "stream",
     "text": [
      "1.3.3\n",
      "0.5.2\n",
      "4.1.2\n"
     ]
    }
   ],
   "source": [
    "import pandas\n",
    "import konlpy\n",
    "import gensim\n",
    "\n",
    "print(pandas.__version__)\n",
    "print(konlpy.__version__)\n",
    "print(gensim.__version__)"
   ]
  },
  {
   "cell_type": "code",
   "execution_count": 2,
   "id": "06ec1b9e",
   "metadata": {},
   "outputs": [],
   "source": [
    "import pandas as pd\n",
    "import urllib.request\n",
    "%matplotlib inline\n",
    "import matplotlib.pyplot as plt\n",
    "import re\n",
    "from konlpy.tag import Okt\n",
    "from tensorflow import keras\n",
    "from tensorflow.keras.preprocessing.text import Tokenizer\n",
    "import numpy as np\n",
    "from tensorflow.keras.preprocessing.sequence import pad_sequences\n",
    "from collections import Counter\n",
    "\n",
    "# 데이터를 읽어봅시다. \n",
    "train_data = pd.read_table('~/aiffel/sentiment_classification/data/ratings_train.txt')\n",
    "test_data = pd.read_table('~/aiffel/sentiment_classification/data/ratings_test.txt')"
   ]
  },
  {
   "cell_type": "markdown",
   "id": "f44beb3e",
   "metadata": {},
   "source": [
    "# 데이터로더 구성 \n",
    "\n",
    "- 데이터 중복 제거\n",
    "- NaN 결측치 제거\n",
    "- 한국어 토크나이저로 토큰화\n",
    "- 불용어(Stopwords) 제거\n",
    "- 사전 word_to_index 구성\n",
    "- 텍스트 스트링을 사전 인덱스로 스트링으로 변환\n",
    "- X_train, y_train , X_test, y_test, word_to_index리턴"
   ]
  },
  {
   "cell_type": "code",
   "execution_count": 3,
   "id": "654e11d8",
   "metadata": {
    "scrolled": true
   },
   "outputs": [
    {
     "name": "stderr",
     "output_type": "stream",
     "text": [
      "/tmp/ipykernel_3033/881825640.py:8: FutureWarning: The default value of regex will change from True to False in a future version.\n",
      "  train_data['document'] = train_data['document'].str.replace(r\"[^ㄱ-ㅎㅏ-ㅣ가-힣 ]\",\"\")\n",
      "/tmp/ipykernel_3033/881825640.py:11: FutureWarning: The default value of regex will change from True to False in a future version.\n",
      "  train_data['document'] = train_data['document'].str.replace('^ +', \"\")\n"
     ]
    }
   ],
   "source": [
    "import re\n",
    "from konlpy.tag import Mecab\n",
    "tokenizer = Mecab()\n",
    "stopwords = ['의','가','이','은','들','는','과','도','를','으로','자','에','와','한','하다', '이다']\n",
    "\n",
    "def load_data(train_data, test_data, num_words=10000):\n",
    "    # 1) 특수기호 및 공백 제거\n",
    "    train_data['document'] = train_data['document'].str.replace(r\"[^ㄱ-ㅎㅏ-ㅣ가-힣 ]\",\"\")\n",
    "    #re.sub(r'[^ㄱ-ㅎㅏ-ㅣ가-힣 ]', '', train_data['document'])\n",
    "    \n",
    "    train_data['document'] = train_data['document'].str.replace('^ +', \"\")\n",
    "    train_data['document'].replace('', np.nan, inplace=True)\n",
    "    \n",
    "    # 2) 중복 및 결측치 제거\n",
    "    train_data.drop_duplicates(subset=['document'], inplace=True)    # subset에 중복데이터를 처리할 칼럼명을 전달\n",
    "    train_data = train_data.dropna(how = 'any')    # NaN이 있으면 제거\n",
    "    test_data.drop_duplicates(subset=['document'], inplace=True)\n",
    "    test_data = test_data.dropna(how = 'any') \n",
    "    \n",
    "    # 3) 토큰화 및 불용어 제거\n",
    "    X_train = []\n",
    "    for sentence in train_data['document']:\n",
    "        temp_X = tokenizer.morphs(sentence) # 토큰화\n",
    "        temp_X = [word for word in temp_X if not word in stopwords] # 불용어 제거\n",
    "        X_train.append(temp_X)\n",
    "\n",
    "    X_test = []\n",
    "    for sentence in test_data['document']:\n",
    "        temp_X = tokenizer.morphs(sentence) # 토큰화\n",
    "        temp_X = [word for word in temp_X if not word in stopwords] # 불용어 제거\n",
    "        X_test.append(temp_X)\n",
    "    \n",
    "    # 4) 단어사전 구성\n",
    "    words = np.concatenate(X_train).tolist() # 단어들을 리스트로 저장\n",
    "    counter = Counter(words)\n",
    "    counter = counter.most_common(num_words-4)   # count기준 상위 num_words-4개의 단어로 축소\n",
    "    #print(counter)\n",
    "    vocab = ['', '', '', ''] + [key for key, _ in counter]    # 리스트 5번째부터 토큰화한 단어가 count 큰 순으로 저장됨\n",
    "    #print(vocab)\n",
    "    word_to_index = {word:index for index, word in enumerate(vocab)}    # 키: 단어, 값: 인덱스(3~num_words-1)\n",
    "    #print(word_to_index)\n",
    "    \n",
    "    # 5) 텍스트 문자열을 사전인덱스 문자열로 변환\n",
    "    def wordlist_to_indexlist(wordlist):\n",
    "        # 키==단어이면 단어의 인덱스, 해당하는 단어가 없으면 3\n",
    "        return [word_to_index[word] if word in word_to_index else word_to_index[''] for word in wordlist]\n",
    "    \n",
    "    # X_train 또는 X_test의 모든 원소에 wordlist_to_indexlist함수를 적용시킨 결과들을 리스트로 저장\n",
    "    # X_train과 X_test는 각 문장에 있는 모든 단어가 담긴 이중리스트였으므로\n",
    "    # 원래 단어가 있던 곳에 해당하는 인덱스가 들어간 이중리스트가 된다.\n",
    "    X_train = list(map(wordlist_to_indexlist, X_train))\n",
    "    X_test = list(map(wordlist_to_indexlist, X_test))\n",
    "        \n",
    "    return X_train, np.array(list(train_data['label'])), X_test, np.array(list(test_data['label'])), word_to_index\n",
    "\n",
    "vocab_size = 30000\n",
    "X_train, y_train, X_test, y_test, word_to_index = load_data(train_data, test_data, num_words=vocab_size) "
   ]
  },
  {
   "cell_type": "code",
   "execution_count": 4,
   "id": "7cd1628c",
   "metadata": {},
   "outputs": [
    {
     "name": "stdout",
     "output_type": "stream",
     "text": [
      "[[27, 68, 894, 33, 216, 15, 28, 701], [997, 483, 494, 639, 4, 112, 1556, 47, 867, 950, 11, 38, 366], [19, 194, 28635], [8034, 145, 4134, 280, 88, 13, 5, 52, 3329], [21628, 8491, 1052, 47, 2701, 55, 4, 2623, 34, 1119, 29, 325, 36, 17, 35, 55, 15312, 21629, 395, 2878, 1677, 5], [628, 21630, 17796, 427, 173, 1465, 663, 1593, 672, 46, 28636, 4, 62, 2169, 120, 723], [239, 352, 8, 356, 1921, 51, 11, 782, 5], [235, 1360, 135, 5, 393, 710, 10358, 15313, 47, 1435, 271, 94, 234, 23, 889, 24, 323, 611, 503, 478, 549, 5, 3168, 8492, 17, 1385, 1385, 67, 284, 13, 5, 47, 97, 7, 70, 17, 28637, 37], [118, 13, 18, 88, 12, 271, 22, 43, 4], [58, 615, 52, 227, 708, 535, 83, 17, 480, 1405, 599, 691, 75, 17, 19, 15314, 12, 15]]\n",
      "[0 1 0 0 1 0 0 0 1 1]\n"
     ]
    }
   ],
   "source": [
    "print(X_train[:10])\n",
    "print(y_train[:10])"
   ]
  },
  {
   "cell_type": "code",
   "execution_count": 5,
   "id": "10fc43a5",
   "metadata": {},
   "outputs": [],
   "source": [
    "index_to_word = {index:word for word, index in word_to_index.items()}\n",
    "# index_to_word"
   ]
  },
  {
   "cell_type": "code",
   "execution_count": 6,
   "id": "81d92ce9",
   "metadata": {},
   "outputs": [],
   "source": [
    "# 문장 1개를 활용할 딕셔너리와 함께 주면, 단어 인덱스 리스트 벡터로 변환해 주는 함수입니다. \n",
    "# 단, 모든 문장은 <BOS>로 시작하는 것으로 합니다. \n",
    "def get_encoded_sentence(sentence, word_to_index):\n",
    "    return [word_to_index['<BOS>']]+[word_to_index[word] if word in word_to_index else word_to_index['<UNK>'] for word in sentence.split()]\n",
    "\n",
    "# 여러 개의 문장 리스트를 한꺼번에 단어 인덱스 리스트 벡터로 encode해 주는 함수입니다. \n",
    "def get_encoded_sentences(sentences, word_to_index):\n",
    "    return [get_encoded_sentence(sentence, word_to_index) for sentence in sentences]\n",
    "\n",
    "# 숫자 벡터로 encode된 문장을 원래대로 decode하는 함수입니다. \n",
    "def get_decoded_sentence(encoded_sentence, index_to_word):\n",
    "    return ' '.join(index_to_word[index] if index in index_to_word else '<UNK>' for index in encoded_sentence[1:])  #[1:]를 통해 <BOS>를 제외\n",
    "\n",
    "# 여러 개의 숫자 벡터로 encode된 문장을 한꺼번에 원래대로 decode하는 함수입니다. \n",
    "def get_decoded_sentences(encoded_sentences, index_to_word):\n",
    "    return [get_decoded_sentence(encoded_sentence, index_to_word) for encoded_sentence in encoded_sentences]"
   ]
  },
  {
   "cell_type": "markdown",
   "id": "f7033514",
   "metadata": {},
   "source": [
    "# 모델 구성을 위한 데이터 분석 및 가공\n",
    "- 데이터셋 내 문장 길이 분포\n",
    "- 적절한 최대 문장 길이 지정\n",
    "- keras.preprocessing.sequence.pad_sequences을 활용한 패딩 추가"
   ]
  },
  {
   "cell_type": "code",
   "execution_count": 7,
   "id": "432ad980",
   "metadata": {},
   "outputs": [
    {
     "name": "stdout",
     "output_type": "stream",
     "text": [
      "<PAD>\n",
      "<BOS>\n",
      "<UNK>\n",
      "<UNUSED>\n"
     ]
    }
   ],
   "source": [
    "# 처음 몇 개 인덱스는 사전에 정의되어 있습니다\n",
    "word_to_index[\"<PAD>\"] = 0\n",
    "word_to_index[\"<BOS>\"] = 1\n",
    "word_to_index[\"<UNK>\"] = 2  # unknown\n",
    "word_to_index[\"<UNUSED>\"] = 3\n",
    "\n",
    "index_to_word[0] = \"<PAD>\"\n",
    "index_to_word[1] = \"<BOS>\"\n",
    "index_to_word[2] = \"<UNK>\"\n",
    "index_to_word[3] = \"<UNUSED>\"\n",
    "\n",
    "index_to_word = {index:word for word, index in word_to_index.items()}\n",
    "\n",
    "print(index_to_word[0])\n",
    "print(index_to_word[1])     # '<BOS>' 가 출력됩니다. \n",
    "print(index_to_word[2])\n",
    "print(index_to_word[3])\n",
    "#print(index_to_word)"
   ]
  },
  {
   "cell_type": "code",
   "execution_count": 8,
   "id": "c0eb1093",
   "metadata": {},
   "outputs": [
    {
     "name": "stdout",
     "output_type": "stream",
     "text": [
      "문장길이 평균 :  14.528138730242716\n",
      "문장길이 최대 :  105\n",
      "문장길이 표준편차 :  11.921158321890513\n",
      "pad_sequences maxlen :  38\n",
      "전체 문장의 0.9352204879212769가 maxlen 설정값 이내에 포함됩니다. \n"
     ]
    }
   ],
   "source": [
    "total_data_text = list(X_train) + list(X_test)\n",
    "# 텍스트데이터 문장길이의 리스트를 생성한 후\n",
    "num_tokens = [len(tokens) for tokens in total_data_text]\n",
    "num_tokens = np.array(num_tokens)\n",
    "# 문장길이의 평균값, 최대값, 표준편차를 계산해 본다. \n",
    "print('문장길이 평균 : ', np.mean(num_tokens))\n",
    "print('문장길이 최대 : ', np.max(num_tokens))\n",
    "print('문장길이 표준편차 : ', np.std(num_tokens))\n",
    "\n",
    "# 예를들어, 최대 길이를 (평균 + 2*표준편차)로 한다면,  \n",
    "max_tokens = np.mean(num_tokens) + 2 * np.std(num_tokens)\n",
    "maxlen = int(max_tokens)\n",
    "print('pad_sequences maxlen : ', maxlen)\n",
    "print('전체 문장의 {}가 maxlen 설정값 이내에 포함됩니다. '.format(np.sum(num_tokens < max_tokens) / len(num_tokens)))"
   ]
  },
  {
   "cell_type": "code",
   "execution_count": 9,
   "id": "b31c2577",
   "metadata": {},
   "outputs": [
    {
     "name": "stdout",
     "output_type": "stream",
     "text": [
      "(143620, 38)\n"
     ]
    }
   ],
   "source": [
    "X_train = keras.preprocessing.sequence.pad_sequences(X_train,\n",
    "                                                        value=word_to_index[\"<PAD>\"],\n",
    "                                                        padding='post', # 혹은 'pre'\n",
    "                                                        maxlen=maxlen)\n",
    "X_test = keras.preprocessing.sequence.pad_sequences(X_test,\n",
    "                                                       value=word_to_index[\"<PAD>\"],\n",
    "                                                       padding='post', # 혹은 'pre'\n",
    "                                                       maxlen=maxlen)\n",
    "\n",
    "print(X_train.shape)"
   ]
  },
  {
   "cell_type": "markdown",
   "id": "b12984d6",
   "metadata": {},
   "source": [
    "# 모델 구성 및 validation set 구성\n",
    "\n",
    "- 모델은 3가지 이상 다양하게 구성하여 실험해 보세요."
   ]
  },
  {
   "cell_type": "code",
   "execution_count": 10,
   "id": "07e65255",
   "metadata": {},
   "outputs": [
    {
     "name": "stdout",
     "output_type": "stream",
     "text": [
      "(103620, 38)\n",
      "(103620,)\n"
     ]
    }
   ],
   "source": [
    "# validation set 40000건 분리 (약30%)\n",
    "x_val = X_train[:40000]   \n",
    "y_val = y_train[:40000]\n",
    "\n",
    "# validation set을 제외한 나머지 약 11만건\n",
    "partial_x_train = X_train[40000:]  \n",
    "partial_y_train = y_train[40000:]\n",
    "\n",
    "print(partial_x_train.shape)\n",
    "print(partial_y_train.shape)"
   ]
  },
  {
   "cell_type": "code",
   "execution_count": 11,
   "id": "8045d7b6",
   "metadata": {},
   "outputs": [
    {
     "name": "stdout",
     "output_type": "stream",
     "text": [
      "Model: \"sequential\"\n",
      "_________________________________________________________________\n",
      "Layer (type)                 Output Shape              Param #   \n",
      "=================================================================\n",
      "embedding (Embedding)        (None, None, 100)         3000000   \n",
      "_________________________________________________________________\n",
      "lstm (LSTM)                  (None, 128)               117248    \n",
      "_________________________________________________________________\n",
      "dropout (Dropout)            (None, 128)               0         \n",
      "_________________________________________________________________\n",
      "dense (Dense)                (None, 1)                 129       \n",
      "=================================================================\n",
      "Total params: 3,117,377\n",
      "Trainable params: 3,117,377\n",
      "Non-trainable params: 0\n",
      "_________________________________________________________________\n"
     ]
    }
   ],
   "source": [
    "word_vector_dim = 100 # 워드 벡터의 차원 수 (변경 가능한 하이퍼파라미터)\n",
    "\n",
    "from keras.layers.core import Dropout\n",
    "\n",
    "model = keras.Sequential()\n",
    "model.add(keras.layers.Embedding(vocab_size, word_vector_dim, input_shape=(None,)))\n",
    "model.add(keras.layers.LSTM(128))   # LSTM레이어. LSTM state 벡터의 차원수는 128로 함. (변경 가능)\n",
    "# model.add(Dropout(0.2))\n",
    "# model.add(keras.layers.Dense(8, activation='relu'))\n",
    "model.add(Dropout(0.2))  # 드롭아웃 추가. 비율은 20%\n",
    "model.add(keras.layers.Dense(1, activation='sigmoid'))  # 최종 출력은 긍정/부정을 나타내는 1차원데이터이다.\n",
    "\n",
    "model.summary()"
   ]
  },
  {
   "cell_type": "code",
   "execution_count": 12,
   "id": "3efe2589",
   "metadata": {},
   "outputs": [
    {
     "name": "stdout",
     "output_type": "stream",
     "text": [
      "Model: \"sequential_1\"\n",
      "_________________________________________________________________\n",
      "Layer (type)                 Output Shape              Param #   \n",
      "=================================================================\n",
      "embedding_1 (Embedding)      (None, None, 100)         3000000   \n",
      "_________________________________________________________________\n",
      "global_max_pooling1d (Global (None, 100)               0         \n",
      "_________________________________________________________________\n",
      "dense_1 (Dense)              (None, 8)                 808       \n",
      "_________________________________________________________________\n",
      "dense_2 (Dense)              (None, 1)                 9         \n",
      "=================================================================\n",
      "Total params: 3,000,817\n",
      "Trainable params: 3,000,817\n",
      "Non-trainable params: 0\n",
      "_________________________________________________________________\n"
     ]
    }
   ],
   "source": [
    "word_vector_dim = 100   # 단어 하나를 표현하는 임베딩 벡터의 차원 수\n",
    "\n",
    "model2 = keras.Sequential()\n",
    "model2.add(keras.layers.Embedding(vocab_size, word_vector_dim, input_shape=(None,)))\n",
    "model2.add(keras.layers.GlobalMaxPooling1D())\n",
    "model2.add(keras.layers.Dense(8, activation='relu'))\n",
    "model2.add(keras.layers.Dense(1, activation='sigmoid'))  # 최종 출력은 긍정/부정을 나타내는 1dim 입니다.\n",
    "\n",
    "model2.summary()"
   ]
  },
  {
   "cell_type": "code",
   "execution_count": 13,
   "id": "4fbcc2e9",
   "metadata": {},
   "outputs": [],
   "source": [
    "\n",
    "from tensorflow.keras.layers import GRU\n",
    "word_vector_dim = 100   # 단어 하나를 표현하는 임베딩 벡터의 차원 수\n",
    "\n",
    "model3 = keras.Sequential()\n",
    "model3.add(keras.layers.Embedding(vocab_size, word_vector_dim))\n",
    "model3.add(GRU(128))\n",
    "model3.add(keras.layers.Dense(1, activation='sigmoid'))"
   ]
  },
  {
   "cell_type": "markdown",
   "id": "1306fc92",
   "metadata": {},
   "source": [
    "# 모델 훈련"
   ]
  },
  {
   "cell_type": "code",
   "execution_count": 14,
   "id": "691746aa",
   "metadata": {},
   "outputs": [],
   "source": [
    "# 오버피팅 방지 및 checkpoint저장\n",
    "callbacks = [keras.callbacks.EarlyStopping(monitor='val_loss',\n",
    "                                           patience=5),\n",
    "             keras.callbacks.ModelCheckpoint(filepath='best_model.h5',\n",
    "                                             monitor='val_loss',\n",
    "                                             save_best_only=True)]"
   ]
  },
  {
   "cell_type": "code",
   "execution_count": 15,
   "id": "c82a355d",
   "metadata": {},
   "outputs": [
    {
     "name": "stdout",
     "output_type": "stream",
     "text": [
      "Epoch 1/10\n",
      "810/810 - 8s - loss: 0.4386 - accuracy: 0.7820 - val_loss: 0.3522 - val_accuracy: 0.8458\n",
      "Epoch 2/10\n",
      "810/810 - 5s - loss: 0.3089 - accuracy: 0.8706 - val_loss: 0.3498 - val_accuracy: 0.8521\n",
      "Epoch 3/10\n",
      "810/810 - 5s - loss: 0.2501 - accuracy: 0.8980 - val_loss: 0.3657 - val_accuracy: 0.8493\n",
      "Epoch 4/10\n",
      "810/810 - 5s - loss: 0.2055 - accuracy: 0.9189 - val_loss: 0.4005 - val_accuracy: 0.8387\n",
      "Epoch 5/10\n",
      "810/810 - 5s - loss: 0.1693 - accuracy: 0.9345 - val_loss: 0.4606 - val_accuracy: 0.8445\n",
      "Epoch 6/10\n",
      "810/810 - 5s - loss: 0.1424 - accuracy: 0.9452 - val_loss: 0.4832 - val_accuracy: 0.8443\n",
      "Epoch 7/10\n",
      "810/810 - 5s - loss: 0.1229 - accuracy: 0.9541 - val_loss: 0.5508 - val_accuracy: 0.8377\n"
     ]
    }
   ],
   "source": [
    "model.compile(optimizer='adam',\n",
    "              loss='binary_crossentropy',\n",
    "              metrics=['accuracy'])\n",
    "              \n",
    "epochs=10  # 몇 epoch를 훈련하면 좋을지 결과를 보면서 바꾸어 봅시다. \n",
    "\n",
    "\n",
    "history = model.fit(partial_x_train,\n",
    "                    partial_y_train,\n",
    "                    epochs=epochs,\n",
    "                    batch_size=128,\n",
    "                    validation_data=(x_val, y_val),\n",
    "                    callbacks=callbacks,\n",
    "                    verbose=2)"
   ]
  },
  {
   "cell_type": "code",
   "execution_count": 16,
   "id": "80b928e3",
   "metadata": {},
   "outputs": [
    {
     "name": "stdout",
     "output_type": "stream",
     "text": [
      "1537/1537 - 3s - loss: 0.5751 - accuracy: 0.8214\n",
      "[0.5750633478164673, 0.8214293122291565]\n"
     ]
    }
   ],
   "source": [
    "results = model.evaluate(X_test,  y_test, verbose=2)\n",
    "\n",
    "print(results)"
   ]
  },
  {
   "cell_type": "code",
   "execution_count": 17,
   "id": "a035eb87",
   "metadata": {
    "scrolled": true
   },
   "outputs": [
    {
     "name": "stdout",
     "output_type": "stream",
     "text": [
      "Epoch 1/10\n",
      "810/810 [==============================] - 3s 4ms/step - loss: 0.4506 - accuracy: 0.8002 - val_loss: 0.3681 - val_accuracy: 0.8351\n",
      "Epoch 2/10\n",
      "810/810 [==============================] - 3s 3ms/step - loss: 0.3498 - accuracy: 0.8495 - val_loss: 0.3556 - val_accuracy: 0.8438\n",
      "Epoch 3/10\n",
      "810/810 [==============================] - 3s 3ms/step - loss: 0.3294 - accuracy: 0.8611 - val_loss: 0.3524 - val_accuracy: 0.8460\n",
      "Epoch 4/10\n",
      "810/810 [==============================] - 3s 3ms/step - loss: 0.3181 - accuracy: 0.8675 - val_loss: 0.3525 - val_accuracy: 0.8454\n",
      "Epoch 5/10\n",
      "810/810 [==============================] - 3s 3ms/step - loss: 0.3112 - accuracy: 0.8713 - val_loss: 0.3535 - val_accuracy: 0.8460\n",
      "Epoch 6/10\n",
      "810/810 [==============================] - 3s 3ms/step - loss: 0.3057 - accuracy: 0.8742 - val_loss: 0.3539 - val_accuracy: 0.8462\n",
      "Epoch 7/10\n",
      "810/810 [==============================] - 3s 3ms/step - loss: 0.3006 - accuracy: 0.8768 - val_loss: 0.3526 - val_accuracy: 0.8464\n",
      "Epoch 8/10\n",
      "810/810 [==============================] - 3s 3ms/step - loss: 0.2957 - accuracy: 0.8789 - val_loss: 0.3525 - val_accuracy: 0.8472\n"
     ]
    }
   ],
   "source": [
    "model2.compile(optimizer='rmsprop', loss='binary_crossentropy', metrics=['accuracy'])\n",
    "\n",
    "              \n",
    "epochs=10  # 하이퍼파라미터\n",
    "\n",
    "\n",
    "history2 = model2.fit(partial_x_train,\n",
    "                    partial_y_train,\n",
    "                    epochs=epochs,\n",
    "                    batch_size=128,\n",
    "                    validation_data=(x_val, y_val),\n",
    "                    callbacks=callbacks,\n",
    "                    verbose=1)"
   ]
  },
  {
   "cell_type": "code",
   "execution_count": 18,
   "id": "c51b0765",
   "metadata": {
    "scrolled": true
   },
   "outputs": [
    {
     "name": "stdout",
     "output_type": "stream",
     "text": [
      "1537/1537 - 2s - loss: 0.3638 - accuracy: 0.8395\n",
      "[0.36384817957878113, 0.8395141959190369]\n"
     ]
    }
   ],
   "source": [
    "results = model2.evaluate(X_test,  y_test, verbose=2)\n",
    "\n",
    "print(results)"
   ]
  },
  {
   "cell_type": "code",
   "execution_count": 19,
   "id": "db80e0f7",
   "metadata": {
    "scrolled": false
   },
   "outputs": [
    {
     "name": "stdout",
     "output_type": "stream",
     "text": [
      "Epoch 1/15\n",
      "1620/1620 [==============================] - 6s 3ms/step - loss: 0.2937 - accuracy: 0.8800 - val_loss: 0.3546 - val_accuracy: 0.8453\n",
      "Epoch 2/15\n",
      "1620/1620 [==============================] - 5s 3ms/step - loss: 0.2910 - accuracy: 0.8821 - val_loss: 0.3542 - val_accuracy: 0.8461\n",
      "Epoch 3/15\n",
      "1620/1620 [==============================] - 5s 3ms/step - loss: 0.2869 - accuracy: 0.8850 - val_loss: 0.3582 - val_accuracy: 0.8450\n",
      "Epoch 4/15\n",
      "1620/1620 [==============================] - 5s 3ms/step - loss: 0.2825 - accuracy: 0.8872 - val_loss: 0.3608 - val_accuracy: 0.8443\n",
      "Epoch 5/15\n",
      "1620/1620 [==============================] - 5s 3ms/step - loss: 0.2783 - accuracy: 0.8898 - val_loss: 0.3618 - val_accuracy: 0.8445\n",
      "Epoch 6/15\n",
      "1620/1620 [==============================] - 5s 3ms/step - loss: 0.2743 - accuracy: 0.8913 - val_loss: 0.3611 - val_accuracy: 0.8458\n",
      "Epoch 7/15\n",
      "1620/1620 [==============================] - 5s 3ms/step - loss: 0.2708 - accuracy: 0.8930 - val_loss: 0.3588 - val_accuracy: 0.8458\n"
     ]
    }
   ],
   "source": [
    "model2.compile(optimizer='rmsprop', loss='binary_crossentropy', metrics=['accuracy'])\n",
    "\n",
    "              \n",
    "epochs=15  # 하이퍼파라미터\n",
    "\n",
    "\n",
    "history2 = model2.fit(partial_x_train,\n",
    "                    partial_y_train,\n",
    "                    epochs=epochs,\n",
    "                    batch_size=64,\n",
    "                    validation_data=(x_val, y_val),\n",
    "                    callbacks=callbacks,\n",
    "                    verbose=1)"
   ]
  },
  {
   "cell_type": "code",
   "execution_count": 20,
   "id": "a255545f",
   "metadata": {
    "scrolled": true
   },
   "outputs": [
    {
     "name": "stdout",
     "output_type": "stream",
     "text": [
      "1537/1537 - 2s - loss: 0.3716 - accuracy: 0.8375\n",
      "[0.37163516879081726, 0.8375205993652344]\n"
     ]
    }
   ],
   "source": [
    "results = model2.evaluate(X_test,  y_test, verbose=2)\n",
    "\n",
    "print(results)"
   ]
  },
  {
   "cell_type": "code",
   "execution_count": 21,
   "id": "42921515",
   "metadata": {},
   "outputs": [],
   "source": [
    "# 오버피팅 방지 및 checkpoint저장\n",
    "callbacks = [keras.callbacks.EarlyStopping(monitor='val_loss',\n",
    "                                           patience=5),\n",
    "             keras.callbacks.ModelCheckpoint(filepath='best_model.h5',\n",
    "                                             monitor='val_loss',\n",
    "                                             save_best_only=True)]"
   ]
  },
  {
   "cell_type": "code",
   "execution_count": 22,
   "id": "a200499d",
   "metadata": {},
   "outputs": [
    {
     "name": "stdout",
     "output_type": "stream",
     "text": [
      "Epoch 1/20\n",
      "810/810 [==============================] - 4s 4ms/step - loss: 0.2658 - accuracy: 0.8949 - val_loss: 0.3558 - val_accuracy: 0.8468\n",
      "Epoch 2/20\n",
      "810/810 [==============================] - 3s 4ms/step - loss: 0.2306 - accuracy: 0.9112 - val_loss: 0.3672 - val_accuracy: 0.8444\n",
      "Epoch 3/20\n",
      "810/810 [==============================] - 3s 4ms/step - loss: 0.1912 - accuracy: 0.9298 - val_loss: 0.3883 - val_accuracy: 0.8387\n",
      "Epoch 4/20\n",
      "810/810 [==============================] - 3s 4ms/step - loss: 0.1514 - accuracy: 0.9464 - val_loss: 0.4282 - val_accuracy: 0.8334\n",
      "Epoch 5/20\n",
      "810/810 [==============================] - 3s 4ms/step - loss: 0.1162 - accuracy: 0.9603 - val_loss: 0.4750 - val_accuracy: 0.8263\n",
      "Epoch 6/20\n",
      "810/810 [==============================] - 3s 4ms/step - loss: 0.0864 - accuracy: 0.9723 - val_loss: 0.5279 - val_accuracy: 0.8217\n"
     ]
    }
   ],
   "source": [
    "model2.compile(optimizer='adam', loss='binary_crossentropy', metrics=['accuracy'])\n",
    "\n",
    "              \n",
    "epochs=20  # 하이퍼파라미터\n",
    "\n",
    "\n",
    "history2 = model2.fit(partial_x_train,\n",
    "                    partial_y_train,\n",
    "                    epochs=epochs,\n",
    "                    batch_size=128,\n",
    "                    validation_data=(x_val, y_val),\n",
    "                    callbacks=callbacks,\n",
    "                    verbose=1)"
   ]
  },
  {
   "cell_type": "code",
   "execution_count": 23,
   "id": "86d2db39",
   "metadata": {},
   "outputs": [
    {
     "name": "stdout",
     "output_type": "stream",
     "text": [
      "1537/1537 - 2s - loss: 0.5258 - accuracy: 0.8147\n",
      "[0.5258303880691528, 0.8146957755088806]\n"
     ]
    }
   ],
   "source": [
    "results = model2.evaluate(X_test,  y_test, verbose=2)\n",
    "\n",
    "print(results)"
   ]
  },
  {
   "cell_type": "code",
   "execution_count": 24,
   "id": "3912b1c7",
   "metadata": {},
   "outputs": [],
   "source": [
    "# 오버피팅 방지 및 checkpoint저장\n",
    "callbacks = [keras.callbacks.EarlyStopping(monitor='val_loss',\n",
    "                                           patience=5),\n",
    "             keras.callbacks.ModelCheckpoint(filepath='best_model3.h5',\n",
    "                                             monitor='val_loss',\n",
    "                                             save_best_only=True)]"
   ]
  },
  {
   "cell_type": "code",
   "execution_count": 25,
   "id": "11d26c70",
   "metadata": {
    "scrolled": true
   },
   "outputs": [
    {
     "name": "stdout",
     "output_type": "stream",
     "text": [
      "Epoch 1/15\n",
      "810/810 [==============================] - 6s 6ms/step - loss: 0.5005 - accuracy: 0.7255 - val_loss: 0.3695 - val_accuracy: 0.8384\n",
      "Epoch 2/15\n",
      "810/810 [==============================] - 5s 6ms/step - loss: 0.3344 - accuracy: 0.8575 - val_loss: 0.3443 - val_accuracy: 0.8464\n",
      "Epoch 3/15\n",
      "810/810 [==============================] - 5s 6ms/step - loss: 0.3024 - accuracy: 0.8729 - val_loss: 0.3235 - val_accuracy: 0.8567\n",
      "Epoch 4/15\n",
      "810/810 [==============================] - 5s 6ms/step - loss: 0.2796 - accuracy: 0.8841 - val_loss: 0.3292 - val_accuracy: 0.8594\n",
      "Epoch 5/15\n",
      "810/810 [==============================] - 5s 6ms/step - loss: 0.2591 - accuracy: 0.8944 - val_loss: 0.3418 - val_accuracy: 0.8547\n",
      "Epoch 6/15\n",
      "810/810 [==============================] - 5s 6ms/step - loss: 0.2412 - accuracy: 0.9031 - val_loss: 0.3250 - val_accuracy: 0.8584\n",
      "Epoch 7/15\n",
      "810/810 [==============================] - 5s 6ms/step - loss: 0.2250 - accuracy: 0.9114 - val_loss: 0.3337 - val_accuracy: 0.8596\n",
      "Epoch 8/15\n",
      "810/810 [==============================] - 5s 6ms/step - loss: 0.2093 - accuracy: 0.9188 - val_loss: 0.3415 - val_accuracy: 0.8551\n"
     ]
    }
   ],
   "source": [
    "model3.compile(optimizer='rmsprop', loss='binary_crossentropy', metrics=['accuracy'])\n",
    "\n",
    "              \n",
    "epochs=15  # 하이퍼파라미터\n",
    "\n",
    "\n",
    "history3 = model3.fit(partial_x_train,\n",
    "                    partial_y_train,\n",
    "                    epochs=epochs,\n",
    "                    batch_size=128,\n",
    "                    validation_data=(x_val, y_val),\n",
    "                    callbacks=callbacks,\n",
    "                    verbose=1)"
   ]
  },
  {
   "cell_type": "code",
   "execution_count": 26,
   "id": "b24c0d13",
   "metadata": {
    "scrolled": true
   },
   "outputs": [
    {
     "name": "stdout",
     "output_type": "stream",
     "text": [
      "1537/1537 - 3s - loss: 0.3557 - accuracy: 0.8492\n",
      "[0.35565832257270813, 0.8492178320884705]\n"
     ]
    }
   ],
   "source": [
    "results = model3.evaluate(X_test,  y_test, verbose=2)\n",
    "\n",
    "print(results)"
   ]
  },
  {
   "cell_type": "code",
   "execution_count": 27,
   "id": "4e336f1b",
   "metadata": {},
   "outputs": [],
   "source": [
    "from tensorflow.keras.layers import GRU\n",
    "word_vector_dim = 100   # 단어 하나를 표현하는 임베딩 벡터의 차원 수\n",
    "\n",
    "model3 = keras.Sequential()\n",
    "model3.add(keras.layers.Embedding(vocab_size, word_vector_dim))\n",
    "model3.add(GRU(128))\n",
    "model3.add(keras.layers.Dense(1, activation='sigmoid'))"
   ]
  },
  {
   "cell_type": "code",
   "execution_count": 28,
   "id": "dd328222",
   "metadata": {
    "scrolled": true
   },
   "outputs": [
    {
     "name": "stdout",
     "output_type": "stream",
     "text": [
      "Epoch 1/15\n",
      "1620/1620 [==============================] - 11s 6ms/step - loss: 0.4702 - accuracy: 0.7510 - val_loss: 0.3613 - val_accuracy: 0.8413\n",
      "Epoch 2/15\n",
      "1620/1620 [==============================] - 9s 6ms/step - loss: 0.3307 - accuracy: 0.8572 - val_loss: 0.3315 - val_accuracy: 0.8541\n",
      "Epoch 3/15\n",
      "1620/1620 [==============================] - 9s 6ms/step - loss: 0.3013 - accuracy: 0.8727 - val_loss: 0.3264 - val_accuracy: 0.8552\n",
      "Epoch 4/15\n",
      "1620/1620 [==============================] - 9s 6ms/step - loss: 0.2770 - accuracy: 0.8868 - val_loss: 0.3209 - val_accuracy: 0.8606\n",
      "Epoch 5/15\n",
      "1620/1620 [==============================] - 10s 6ms/step - loss: 0.2563 - accuracy: 0.8971 - val_loss: 0.3207 - val_accuracy: 0.8617\n",
      "Epoch 6/15\n",
      "1620/1620 [==============================] - 9s 6ms/step - loss: 0.2380 - accuracy: 0.9054 - val_loss: 0.3316 - val_accuracy: 0.8594\n",
      "Epoch 7/15\n",
      "1620/1620 [==============================] - 9s 6ms/step - loss: 0.2218 - accuracy: 0.9121 - val_loss: 0.3333 - val_accuracy: 0.8590\n",
      "Epoch 8/15\n",
      "1620/1620 [==============================] - 9s 6ms/step - loss: 0.2058 - accuracy: 0.9199 - val_loss: 0.3510 - val_accuracy: 0.8561\n",
      "Epoch 9/15\n",
      "1620/1620 [==============================] - 9s 6ms/step - loss: 0.1906 - accuracy: 0.9262 - val_loss: 0.3551 - val_accuracy: 0.8575\n",
      "Epoch 10/15\n",
      "1620/1620 [==============================] - 9s 6ms/step - loss: 0.1741 - accuracy: 0.9329 - val_loss: 0.3862 - val_accuracy: 0.8511\n"
     ]
    }
   ],
   "source": [
    "model3.compile(optimizer='rmsprop', loss='binary_crossentropy', metrics=['accuracy'])\n",
    "\n",
    "              \n",
    "epochs=15  # 하이퍼파라미터\n",
    "\n",
    "\n",
    "history3 = model3.fit(partial_x_train,\n",
    "                    partial_y_train,\n",
    "                    epochs=epochs,\n",
    "                    batch_size=64,\n",
    "                    validation_data=(x_val, y_val),\n",
    "                    callbacks=callbacks,\n",
    "                    verbose=1)"
   ]
  },
  {
   "cell_type": "code",
   "execution_count": 29,
   "id": "19583045",
   "metadata": {},
   "outputs": [
    {
     "name": "stdout",
     "output_type": "stream",
     "text": [
      "1537/1537 - 3s - loss: 0.4093 - accuracy: 0.8411\n",
      "[0.4092542827129364, 0.8411213159561157]\n"
     ]
    }
   ],
   "source": [
    "results = model3.evaluate(X_test,  y_test, verbose=2)\n",
    "\n",
    "print(results)"
   ]
  },
  {
   "cell_type": "code",
   "execution_count": 30,
   "id": "c1eca82b",
   "metadata": {},
   "outputs": [],
   "source": [
    "from tensorflow.keras.layers import GRU\n",
    "word_vector_dim = 100   # 단어 하나를 표현하는 임베딩 벡터의 차원 수\n",
    "\n",
    "model3 = keras.Sequential()\n",
    "model3.add(keras.layers.Embedding(vocab_size, word_vector_dim))\n",
    "model3.add(GRU(128))\n",
    "model.add(Dropout(0.2))  # 드롭아웃 추가. 비율은 20%\n",
    "model3.add(keras.layers.Dense(1, activation='sigmoid'))"
   ]
  },
  {
   "cell_type": "code",
   "execution_count": 31,
   "id": "b405f64c",
   "metadata": {
    "scrolled": false
   },
   "outputs": [
    {
     "name": "stdout",
     "output_type": "stream",
     "text": [
      "Epoch 1/15\n",
      "1620/1620 [==============================] - 11s 6ms/step - loss: 0.4648 - accuracy: 0.7574 - val_loss: 0.3511 - val_accuracy: 0.8466\n",
      "Epoch 2/15\n",
      "1620/1620 [==============================] - 9s 6ms/step - loss: 0.3322 - accuracy: 0.8569 - val_loss: 0.3460 - val_accuracy: 0.8456\n",
      "Epoch 3/15\n",
      "1620/1620 [==============================] - 9s 6ms/step - loss: 0.3038 - accuracy: 0.8713 - val_loss: 0.3276 - val_accuracy: 0.8565\n",
      "Epoch 4/15\n",
      "1620/1620 [==============================] - 9s 6ms/step - loss: 0.2789 - accuracy: 0.8849 - val_loss: 0.3201 - val_accuracy: 0.8599\n",
      "Epoch 5/15\n",
      "1620/1620 [==============================] - 9s 6ms/step - loss: 0.2570 - accuracy: 0.8969 - val_loss: 0.3171 - val_accuracy: 0.8616\n",
      "Epoch 6/15\n",
      "1620/1620 [==============================] - 9s 6ms/step - loss: 0.2391 - accuracy: 0.9052 - val_loss: 0.3467 - val_accuracy: 0.8529\n",
      "Epoch 7/15\n",
      "1620/1620 [==============================] - 9s 6ms/step - loss: 0.2222 - accuracy: 0.9124 - val_loss: 0.3368 - val_accuracy: 0.8544\n",
      "Epoch 8/15\n",
      "1620/1620 [==============================] - 9s 6ms/step - loss: 0.2066 - accuracy: 0.9194 - val_loss: 0.3530 - val_accuracy: 0.8528\n",
      "Epoch 9/15\n",
      "1620/1620 [==============================] - 9s 6ms/step - loss: 0.1899 - accuracy: 0.9266 - val_loss: 0.3570 - val_accuracy: 0.8471\n",
      "Epoch 10/15\n",
      "1620/1620 [==============================] - 9s 6ms/step - loss: 0.1743 - accuracy: 0.9328 - val_loss: 0.3817 - val_accuracy: 0.8475\n"
     ]
    }
   ],
   "source": [
    "model3.compile(optimizer='rmsprop', loss='binary_crossentropy', metrics=['accuracy'])\n",
    "\n",
    "              \n",
    "epochs=15  # 하이퍼파라미터\n",
    "\n",
    "\n",
    "history3 = model3.fit(partial_x_train,\n",
    "                    partial_y_train,\n",
    "                    epochs=epochs,\n",
    "                    batch_size=64,\n",
    "                    validation_data=(x_val, y_val),\n",
    "                    callbacks=callbacks,\n",
    "                    verbose=1)\n"
   ]
  },
  {
   "cell_type": "code",
   "execution_count": 32,
   "id": "039d5134",
   "metadata": {},
   "outputs": [
    {
     "name": "stdout",
     "output_type": "stream",
     "text": [
      "1537/1537 [==============================] - 4s 3ms/step - loss: 0.3991 - accuracy: 0.8403\n",
      "[0.3991478681564331, 0.8402872681617737]\n"
     ]
    }
   ],
   "source": [
    "results = model3.evaluate(X_test,  y_test, verbose=1)\n",
    "\n",
    "print(results)"
   ]
  },
  {
   "cell_type": "code",
   "execution_count": 33,
   "id": "650b1f7f",
   "metadata": {},
   "outputs": [
    {
     "name": "stdout",
     "output_type": "stream",
     "text": [
      "1537/1537 [==============================] - 4s 2ms/step - loss: 0.3274 - accuracy: 0.8552\n",
      "\n",
      " 테스트 정확도: 0.8552\n"
     ]
    }
   ],
   "source": [
    "from tensorflow.keras.models import load_model\n",
    "\n",
    "loaded_model = load_model('best_model3.h5')\n",
    "print(\"\\n 테스트 정확도: %.4f\" % (loaded_model.evaluate(X_test, y_test)[1]))"
   ]
  },
  {
   "cell_type": "markdown",
   "id": "61018d53",
   "metadata": {},
   "source": [
    "Loss, Accuracy 그래프 시각화"
   ]
  },
  {
   "cell_type": "code",
   "execution_count": 34,
   "id": "972b7f07",
   "metadata": {},
   "outputs": [
    {
     "name": "stdout",
     "output_type": "stream",
     "text": [
      "dict_keys(['loss', 'accuracy', 'val_loss', 'val_accuracy'])\n"
     ]
    }
   ],
   "source": [
    "history_dict = history3.history\n",
    "print(history_dict.keys()) # epoch에 따른 그래프를 그려볼 수 있는 항목들"
   ]
  },
  {
   "cell_type": "code",
   "execution_count": 35,
   "id": "40f1c54a",
   "metadata": {},
   "outputs": [
    {
     "data": {
      "image/png": "[encoded data removed]",
      "text/plain": [
       "<Figure size 432x288 with 1 Axes>"
      ]
     },
     "metadata": {
      "needs_background": "light"
     },
     "output_type": "display_data"
    }
   ],
   "source": [
    "acc = history_dict['accuracy']\n",
    "val_acc = history_dict['val_accuracy']\n",
    "loss = history_dict['loss']\n",
    "val_loss = history_dict['val_loss']\n",
    "\n",
    "epochs = range(1, len(acc) + 1)\n",
    "\n",
    "# \"bo\"는 \"파란색 점\"입니다\n",
    "plt.plot(epochs, loss, 'bo', label='Training loss')\n",
    "# b는 \"파란 실선\"입니다\n",
    "plt.plot(epochs, val_loss, 'b', label='Validation loss')\n",
    "plt.title('Training and validation loss')\n",
    "plt.xlabel('Epochs')\n",
    "plt.ylabel('Loss')\n",
    "plt.legend()\n",
    "\n",
    "plt.show()"
   ]
  },
  {
   "cell_type": "code",
   "execution_count": 36,
   "id": "5c32fb85",
   "metadata": {},
   "outputs": [
    {
     "data": {
      "image/png": "[encoded data removed]",
      "text/plain": [
       "<Figure size 432x288 with 1 Axes>"
      ]
     },
     "metadata": {
      "needs_background": "light"
     },
     "output_type": "display_data"
    }
   ],
   "source": [
    "plt.clf()   # 그림을 초기화합니다\n",
    "## 모델1 시각화\n",
    "plt.plot(epochs, acc, 'bo', label='Training acc')\n",
    "plt.plot(epochs, val_acc, 'b', label='Validation acc')\n",
    "plt.title('Training and validation accuracy')\n",
    "plt.xlabel('Epochs')\n",
    "plt.ylabel('Accuracy')\n",
    "plt.legend()\n",
    "\n",
    "plt.show()"
   ]
  },
  {
   "cell_type": "markdown",
   "id": "24e054e2",
   "metadata": {},
   "source": [
    "학습된 Embedding 레이어 분석"
   ]
  },
  {
   "cell_type": "code",
   "execution_count": 37,
   "id": "70639dda",
   "metadata": {},
   "outputs": [
    {
     "name": "stdout",
     "output_type": "stream",
     "text": [
      "1537/1537 [==============================] - 2s 2ms/step - loss: 0.3676 - accuracy: 0.8390\n",
      "\n",
      " 테스트 정확도: 0.8390\n"
     ]
    }
   ],
   "source": [
    "from tensorflow.keras.models import load_model\n",
    "\n",
    "loaded_model = load_model('best_model.h5')\n",
    "print(\"\\n 테스트 정확도: %.4f\" % (loaded_model.evaluate(X_test, y_test)[1]))"
   ]
  },
  {
   "cell_type": "code",
   "execution_count": 38,
   "id": "09f754e4",
   "metadata": {},
   "outputs": [
    {
     "name": "stdout",
     "output_type": "stream",
     "text": [
      "(30000, 100)\n"
     ]
    }
   ],
   "source": [
    "embedding_layer = loaded_model.layers[0]\n",
    "weights = embedding_layer.get_weights()[0]\n",
    "print(weights.shape)    # shape: (vocab_size, embedding_dim)"
   ]
  },
  {
   "cell_type": "code",
   "execution_count": 39,
   "id": "5d600385",
   "metadata": {},
   "outputs": [],
   "source": [
    "import os\n",
    "\n",
    "vocab_size = weights.shape[0]\n",
    "word_vector_dim = weights.shape[1]\n",
    "\n",
    "# 학습한 Embedding 파라미터를 파일에 써서 저장합니다. \n",
    "word2vec_file_path = os.getenv('HOME')+'/aiffel/sentiment_classification/data/word2vec.txt'\n",
    "f = open(word2vec_file_path, 'w')\n",
    "f.write('{} {}\\n'.format(vocab_size-4, word_vector_dim))  # 몇개의 벡터를 얼마 사이즈로 기재할지 타이틀을 씁니다.\n",
    "\n",
    "# 단어 개수(에서 특수문자 4개는 제외하고)만큼의 워드 벡터를 파일에 기록합니다. \n",
    "vectors = loaded_model.get_weights()[0]\n",
    "for i in range(4,vocab_size):\n",
    "    f.write('{} {}\\n'.format(index_to_word[i], ' '.join(map(str, list(vectors[i, :])))))\n",
    "f.close()"
   ]
  },
  {
   "cell_type": "code",
   "execution_count": 40,
   "id": "ff195965",
   "metadata": {},
   "outputs": [
    {
     "data": {
      "text/plain": [
       "array([-0.06178759, -0.21925198,  0.65681285, -0.1815251 , -0.39898357,\n",
       "       -0.0929231 , -0.03888755, -0.31980428, -0.42889363, -0.50349456,\n",
       "       -0.23777167, -0.07175514, -0.02905947, -0.1139995 , -0.23474689,\n",
       "       -0.2123156 , -0.02677905, -0.12182406, -0.3993658 , -0.20692235,\n",
       "       -0.44685778, -0.20098427, -0.372344  , -0.28518093, -0.17958622,\n",
       "       -0.242259  , -0.08838418,  0.06694317, -0.43213952, -0.40420213,\n",
       "       -0.34640864, -0.4294388 , -0.18762204, -0.46668684, -0.5171174 ,\n",
       "       -0.39477545, -0.4054623 , -0.16137923, -0.17977767, -0.33106974,\n",
       "       -0.14512481, -0.34099832, -0.22880287,  0.73889714, -0.37008777,\n",
       "       -0.11684783, -0.2221512 , -0.3720211 ,  0.02327181,  0.0460037 ,\n",
       "       -0.49241376, -0.3937263 , -0.05555035, -0.37928432, -0.40478218,\n",
       "       -0.34587198, -0.18992038, -0.17190391, -0.29637748, -0.2615887 ,\n",
       "       -0.4063239 , -0.45796847, -0.42435113, -0.23212206, -0.47834933,\n",
       "       -0.32957047, -0.15279128, -0.10860041, -0.41864514, -0.40699574,\n",
       "       -0.06048907, -0.14788088, -0.3923818 , -0.19759913, -0.32375136,\n",
       "       -0.06388637, -0.30330336, -0.34615263, -0.18726616, -0.41485965,\n",
       "       -0.5278489 ,  0.4231294 , -0.3570172 , -0.12292212, -0.43977544,\n",
       "        0.6431294 , -0.18882175, -0.40661108, -0.34084657, -0.46906596,\n",
       "       -0.44248238, -0.44739175, -0.03279246, -0.01985792,  0.67603314,\n",
       "       -0.36312786, -0.12232365,  0.00123231,  0.0208061 , -0.51199925],\n",
       "      dtype=float32)"
      ]
     },
     "execution_count": 40,
     "metadata": {},
     "output_type": "execute_result"
    }
   ],
   "source": [
    "from gensim.models.keyedvectors import Word2VecKeyedVectors\n",
    "\n",
    "# 저장한 워드 벡터 다시 로드\n",
    "word_vectors = Word2VecKeyedVectors.load_word2vec_format(word2vec_file_path, binary=False)\n",
    "vector = word_vectors['영화']\n",
    "vector"
   ]
  },
  {
   "cell_type": "code",
   "execution_count": 41,
   "id": "f5a7db15",
   "metadata": {},
   "outputs": [
    {
     "name": "stdout",
     "output_type": "stream",
     "text": [
      "함\n",
      "로맨스\n",
      "하\n",
      "다\n",
      "같\n",
      "반\n",
      "났\n",
      "완성도\n",
      "뭔가\n",
      "온다\n"
     ]
    }
   ],
   "source": [
    "keys = []\n",
    "for key, distance in word_vectors.similar_by_word('영화'):\n",
    "    print(key)\n",
    "    keys.append(word_to_index[key])"
   ]
  },
  {
   "cell_type": "code",
   "execution_count": 42,
   "id": "4d847486",
   "metadata": {},
   "outputs": [
    {
     "name": "stderr",
     "output_type": "stream",
     "text": [
      "/opt/conda/lib/python3.9/site-packages/sklearn/manifold/_t_sne.py:780: FutureWarning: The default initialization in TSNE will change from 'random' to 'pca' in 1.2.\n",
      "  warnings.warn(\n",
      "/opt/conda/lib/python3.9/site-packages/sklearn/manifold/_t_sne.py:790: FutureWarning: The default learning rate in TSNE will change from 200.0 to 'auto' in 1.2.\n",
      "  warnings.warn(\n"
     ]
    },
    {
     "data": {
      "text/plain": [
       "(30000, 2)"
      ]
     },
     "execution_count": 42,
     "metadata": {},
     "output_type": "execute_result"
    }
   ],
   "source": [
    "from sklearn.manifold import TSNE\n",
    "\n",
    "tsne = TSNE(n_components=2)\n",
    "y = tsne.fit_transform(weights)\n",
    "y.shape"
   ]
  },
  {
   "cell_type": "code",
   "execution_count": 43,
   "id": "c7ce8c20",
   "metadata": {},
   "outputs": [
    {
     "data": {
      "image/png": "[encoded data removed]",
      "text/plain": [
       "<Figure size 432x288 with 1 Axes>"
      ]
     },
     "metadata": {
      "needs_background": "light"
     },
     "output_type": "display_data"
    }
   ],
   "source": [
    "plt.scatter(y[:,0], y[:,1])\n",
    "for idx, key in enumerate(keys):            \n",
    "    if idx == 0:\n",
    "        plt.scatter(y[key,0], y[key,1], marker='s', c='black')\n",
    "        continue\n",
    "    plt.scatter(y[key,0], y[key,1], marker='x', c='r')"
   ]
  },
  {
   "cell_type": "code",
   "execution_count": 44,
   "id": "34213958",
   "metadata": {},
   "outputs": [],
   "source": [
    "import gensim\n",
    "import os\n",
    "\n",
    "word2vec_path = os.getenv('HOME')+'/data/word2vec_ko.model'\n",
    "word2vec = gensim.models.Word2Vec.load(word2vec_path)"
   ]
  },
  {
   "cell_type": "code",
   "execution_count": 45,
   "id": "bd5221cb",
   "metadata": {},
   "outputs": [
    {
     "data": {
      "text/plain": [
       "[('드라마', 0.8418774008750916),\n",
       " ('뮤지컬', 0.7775140404701233),\n",
       " ('코미디', 0.7489107251167297),\n",
       " ('다큐멘터리', 0.7401294708251953),\n",
       " ('헐리우드', 0.7397844195365906),\n",
       " ('애니메이션', 0.7170552015304565),\n",
       " ('독립영화', 0.7113528251647949),\n",
       " ('로맨틱', 0.7107657194137573),\n",
       " ('장편', 0.7101576924324036),\n",
       " ('극영화', 0.7045413255691528)]"
      ]
     },
     "execution_count": 45,
     "metadata": {},
     "output_type": "execute_result"
    }
   ],
   "source": [
    "word2vec.wv.most_similar('영화')"
   ]
  },
  {
   "cell_type": "code",
   "execution_count": 46,
   "id": "ad1a94a7",
   "metadata": {},
   "outputs": [],
   "source": [
    "embedding_matrix = np.random.rand(vocab_size, word_vector_dim)\n",
    "\n",
    "# embedding_matrix에 Word2Vec 워드 벡터를 단어 하나씩마다 차례차례 카피한다.\n",
    "for i in range(4,vocab_size):\n",
    "    if index_to_word[i] in word2vec.wv:\n",
    "        embedding_matrix[i] = word2vec.wv[index_to_word[i]]"
   ]
  },
  {
   "cell_type": "code",
   "execution_count": 47,
   "id": "026bf181",
   "metadata": {},
   "outputs": [
    {
     "name": "stdout",
     "output_type": "stream",
     "text": [
      "Model: \"sequential_5\"\n",
      "_________________________________________________________________\n",
      "Layer (type)                 Output Shape              Param #   \n",
      "=================================================================\n",
      "embedding_5 (Embedding)      (None, 38, 100)           3000000   \n",
      "_________________________________________________________________\n",
      "gru_3 (GRU)                  (None, 128)               88320     \n",
      "_________________________________________________________________\n",
      "dropout_2 (Dropout)          (None, 128)               0         \n",
      "_________________________________________________________________\n",
      "dense_6 (Dense)              (None, 1)                 129       \n",
      "=================================================================\n",
      "Total params: 3,088,449\n",
      "Trainable params: 3,088,449\n",
      "Non-trainable params: 0\n",
      "_________________________________________________________________\n"
     ]
    }
   ],
   "source": [
    "from tensorflow.keras.layers import GRU\n",
    "from keras.layers.core import Dropout\n",
    "from tensorflow.keras.initializers import Constant\n",
    "\n",
    "# 모델 구성\n",
    "model4 = keras.Sequential()\n",
    "model4.add(keras.layers.Embedding(vocab_size, \n",
    "                                 word_vector_dim, \n",
    "                                 embeddings_initializer=Constant(embedding_matrix),  # 카피한 임베딩을 여기서 활용\n",
    "                                 input_length=maxlen, \n",
    "                                 trainable=True))   # trainable을 True로 주면 Fine-tuning\n",
    "model4.add(GRU(128))\n",
    "model4.add(Dropout(0.2))  # 드롭아웃 추가. 비율은 20%\n",
    "model4.add(keras.layers.Dense(1, activation='sigmoid'))\n",
    "\n",
    "model4.summary()"
   ]
  },
  {
   "cell_type": "code",
   "execution_count": 48,
   "id": "a8948c23",
   "metadata": {},
   "outputs": [],
   "source": [
    "# 오버피팅 방지 및 checkpoint저장\n",
    "callbacks = [keras.callbacks.EarlyStopping(monitor='val_loss',\n",
    "                                           patience=5),\n",
    "             keras.callbacks.ModelCheckpoint(filepath='best_model4.h5',\n",
    "                                             monitor='val_loss',\n",
    "                                             save_best_only=True)]"
   ]
  },
  {
   "cell_type": "code",
   "execution_count": 49,
   "id": "2d3702e3",
   "metadata": {},
   "outputs": [
    {
     "name": "stdout",
     "output_type": "stream",
     "text": [
      "Epoch 1/15\n",
      "810/810 [==============================] - 7s 7ms/step - loss: 0.5690 - accuracy: 0.6689 - val_loss: 0.4054 - val_accuracy: 0.8152\n",
      "Epoch 2/15\n",
      "810/810 [==============================] - 5s 6ms/step - loss: 0.3730 - accuracy: 0.8329 - val_loss: 0.3529 - val_accuracy: 0.8395\n",
      "Epoch 3/15\n",
      "810/810 [==============================] - 5s 6ms/step - loss: 0.3191 - accuracy: 0.8612 - val_loss: 0.3324 - val_accuracy: 0.8550\n",
      "Epoch 4/15\n",
      "810/810 [==============================] - 5s 6ms/step - loss: 0.2846 - accuracy: 0.8782 - val_loss: 0.3271 - val_accuracy: 0.8588\n",
      "Epoch 5/15\n",
      "810/810 [==============================] - 5s 6ms/step - loss: 0.2567 - accuracy: 0.8931 - val_loss: 0.3308 - val_accuracy: 0.8585\n",
      "Epoch 6/15\n",
      "810/810 [==============================] - 5s 6ms/step - loss: 0.2316 - accuracy: 0.9053 - val_loss: 0.3308 - val_accuracy: 0.8609\n",
      "Epoch 7/15\n",
      "810/810 [==============================] - 5s 6ms/step - loss: 0.2069 - accuracy: 0.9164 - val_loss: 0.3414 - val_accuracy: 0.8614\n",
      "Epoch 8/15\n",
      "810/810 [==============================] - 5s 6ms/step - loss: 0.1826 - accuracy: 0.9282 - val_loss: 0.3888 - val_accuracy: 0.8566\n",
      "Epoch 9/15\n",
      "810/810 [==============================] - 5s 6ms/step - loss: 0.1617 - accuracy: 0.9380 - val_loss: 0.3886 - val_accuracy: 0.8586\n"
     ]
    }
   ],
   "source": [
    "# 학습의 진행\n",
    "model4.compile(optimizer='rmsprop',\n",
    "              loss='binary_crossentropy',\n",
    "              metrics=['accuracy'])\n",
    "              \n",
    "epochs=15  # 몇 epoch를 훈련하면 좋을지 결과를 보면서 바꾸어 봅시다. \n",
    "\n",
    "history = model4.fit(partial_x_train,\n",
    "                    partial_y_train,\n",
    "                    epochs=epochs,\n",
    "                    batch_size=128,\n",
    "                    validation_data=(x_val, y_val),\n",
    "                    verbose=1,\n",
    "                    callbacks=callbacks)"
   ]
  },
  {
   "cell_type": "code",
   "execution_count": 50,
   "id": "daf35a81",
   "metadata": {},
   "outputs": [
    {
     "name": "stdout",
     "output_type": "stream",
     "text": [
      "1537/1537 - 3s - loss: 0.4064 - accuracy: 0.8513\n",
      "[0.4063548445701599, 0.8512927889823914]\n"
     ]
    }
   ],
   "source": [
    "results = model4.evaluate(X_test,  y_test, verbose=2)\n",
    "\n",
    "print(results)"
   ]
  },
  {
   "cell_type": "code",
   "execution_count": 51,
   "id": "47921bc7",
   "metadata": {},
   "outputs": [
    {
     "name": "stdout",
     "output_type": "stream",
     "text": [
      "1537/1537 [==============================] - 4s 2ms/step - loss: 0.3363 - accuracy: 0.8525\n",
      "\n",
      " 테스트 정확도: 0.8525\n"
     ]
    }
   ],
   "source": [
    "loaded_model = load_model('best_model4.h5')\n",
    "print(\"\\n 테스트 정확도: %.4f\" % (loaded_model.evaluate(X_test, y_test)[1]))"
   ]
  },
  {
   "cell_type": "code",
   "execution_count": 52,
   "id": "c7f7d2bb",
   "metadata": {},
   "outputs": [
    {
     "name": "stdout",
     "output_type": "stream",
     "text": [
      "dict_keys(['loss', 'accuracy', 'val_loss', 'val_accuracy'])\n"
     ]
    }
   ],
   "source": [
    "history_dict = history.history\n",
    "print(history_dict.keys()) # epoch에 따른 그래프를 그려볼 수 있는 항목들"
   ]
  },
  {
   "cell_type": "code",
   "execution_count": 53,
   "id": "e12feac1",
   "metadata": {},
   "outputs": [
    {
     "data": {
      "image/png": "[encoded data removed]",
      "text/plain": [
       "<Figure size 432x288 with 1 Axes>"
      ]
     },
     "metadata": {
      "needs_background": "light"
     },
     "output_type": "display_data"
    }
   ],
   "source": [
    "acc = history_dict['accuracy']\n",
    "val_acc = history_dict['val_accuracy']\n",
    "loss = history_dict['loss']\n",
    "val_loss = history_dict['val_loss']\n",
    "\n",
    "epochs = range(1, len(acc) + 1)\n",
    "\n",
    "# \"bo\"는 \"파란색 점\"입니다\n",
    "plt.plot(epochs, loss, 'bo', label='Training loss')\n",
    "# b는 \"파란 실선\"입니다\n",
    "plt.plot(epochs, val_loss, 'b', label='Validation loss')\n",
    "plt.title('Training and validation loss')\n",
    "plt.xlabel('Epochs')\n",
    "plt.ylabel('Loss')\n",
    "plt.legend()\n",
    "\n",
    "plt.show()"
   ]
  },
  {
   "cell_type": "code",
   "execution_count": 54,
   "id": "770ba98a",
   "metadata": {},
   "outputs": [
    {
     "data": {
      "image/png": "[encoded data removed]",
      "text/plain": [
       "<Figure size 432x288 with 1 Axes>"
      ]
     },
     "metadata": {
      "needs_background": "light"
     },
     "output_type": "display_data"
    }
   ],
   "source": [
    "plt.clf()   # 그림을 초기화합니다\n",
    "## 모델1 시각화\n",
    "plt.plot(epochs, acc, 'bo', label='Training acc')\n",
    "plt.plot(epochs, val_acc, 'b', label='Validation acc')\n",
    "plt.title('Training and validation accuracy')\n",
    "plt.xlabel('Epochs')\n",
    "plt.ylabel('Accuracy')\n",
    "plt.legend()\n",
    "\n",
    "plt.show()"
   ]
  },
  {
   "cell_type": "markdown",
   "id": "aa06aef5",
   "metadata": {},
   "source": [
    "# 회고 \n",
    "\n",
    "이번 익스는 굉장히 어려워서 정말 하나도 모르겠어서 다른 사람들이 한것을 참고하였습니다 \n"
   ]
  }
 ],
 "metadata": {
  "kernelspec": {
   "display_name": "Python 3 (ipykernel)",
   "language": "python",
   "name": "python3"
  },
  "language_info": {
   "codemirror_mode": {
    "name": "ipython",
    "version": 3
   },
   "file_extension": ".py",
   "mimetype": "text/x-python",
   "name": "python",
   "nbconvert_exporter": "python",
   "pygments_lexer": "ipython3",
   "version": "3.9.7"
  }
 },
 "nbformat": 4,
 "nbformat_minor": 5
}
